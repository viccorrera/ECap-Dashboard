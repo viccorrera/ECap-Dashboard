{
 "cells": [
  {
   "cell_type": "code",
   "execution_count": 1,
   "metadata": {},
   "outputs": [],
   "source": [
    "import pandas as pd\n",
    "import numpy as np\n",
    "from ecap_dashboard import SOReporting, quarterOverQuarter"
   ]
  },
  {
   "cell_type": "code",
   "execution_count": 2,
   "metadata": {},
   "outputs": [],
   "source": [
    "new_reporting_date = pd.to_datetime('30/06/2020', dayfirst=True)\n",
    "bond_this_quarter = SOReporting(\n",
    "    product_type='bond',\n",
    "    period='New',\n",
    "    reporting_date=new_reporting_date)\n",
    "\n",
    "\n",
    "old_reporting_date = pd.to_datetime('31/03/2020', dayfirst=True)\n",
    "bond_last_quarter = SOReporting(\n",
    "    product_type='bond',\n",
    "    period='Old',\n",
    "    reporting_date=old_reporting_date)"
   ]
  },
  {
   "cell_type": "code",
   "execution_count": 3,
   "metadata": {},
   "outputs": [],
   "source": [
    "# this_quarter_by_cedant_final = bond_this_quarter.get_final_grouped_by_cedant()\n",
    "# this_quarter_by_cedant_final.style.format({\n",
    "#     'TPE/100': \"{:,.0f}\",\n",
    "#     'EPI (€m)': \"{:,.0f}\",\n",
    "#     'Ecap (€m)': \"{:,.0f}\",\n",
    "#     'EL (€m)': \"{:,.0f}\",\n",
    "#     'PD': \"{:.2%}\",\n",
    "#     'ECap / TPE': \"{:.2%}\",\n",
    "#     'EL / TPE': \"{:.2%}\",\n",
    "#     'ECap / EPI': \"{:.0%}\",\n",
    "#     'EL / EPI': \"{:.0%}\",\n",
    "# })"
   ]
  },
  {
   "cell_type": "code",
   "execution_count": 4,
   "metadata": {},
   "outputs": [],
   "source": [
    "qOq = quarterOverQuarter(\n",
    "    product_type='bond',\n",
    "    this_quarter_reporting_date=new_reporting_date,\n",
    "    this_quarter_reporting=bond_this_quarter.raw_reporting,\n",
    "    last_quarter_reporting=bond_last_quarter.raw_reporting\n",
    ")"
   ]
  },
  {
   "cell_type": "code",
   "execution_count": 5,
   "metadata": {
    "tags": []
   },
   "outputs": [
    {
     "output_type": "stream",
     "name": "stdout",
     "text": "Cedant treaty type is: bond\nCedant treaty type is: bond\n"
    }
   ],
   "source": [
    "balloon = '36047B1 01'\n",
    "qOq.get_deep_dive_exposures(balloon).to_csv('{} exposures.txt'.format(balloon), sep='\\t', index=False)\n",
    "\n",
    "qOq.get_deep_dive_summary(\n",
    "    balloon_id=balloon,\n",
    "    this_quarter_grouped_by_contract=bond_this_quarter.get_grouped_by_contract(),\n",
    "    last_quarter_grouped_by_contract=bond_last_quarter.get_grouped_by_contract()\n",
    ").to_csv('{} summary.txt'.format(balloon), sep='\\t')"
   ]
  },
  {
   "cell_type": "code",
   "execution_count": 6,
   "metadata": {},
   "outputs": [],
   "source": [
    "new_reporting_date = pd.to_datetime('30/06/2020', dayfirst=True)\n",
    "credit_this_quarter = SOReporting(\n",
    "    product_type='credit',\n",
    "    period='New',\n",
    "    reporting_date=new_reporting_date)\n",
    "\n",
    "\n",
    "old_reporting_date = pd.to_datetime('31/03/2020', dayfirst=True)\n",
    "credit_last_quarter = SOReporting(\n",
    "    product_type='credit',\n",
    "    period='Old',\n",
    "    reporting_date=old_reporting_date)"
   ]
  },
  {
   "cell_type": "code",
   "execution_count": 7,
   "metadata": {},
   "outputs": [],
   "source": [
    "credit_this_quarter.get_grouped_by_contract().to_csv('test.txt', sep='\\t', index=False)"
   ]
  },
  {
   "cell_type": "code",
   "execution_count": 8,
   "metadata": {},
   "outputs": [],
   "source": [
    "# this_quarter_by_cedant_final_CR = credit_this_quarter.get_final_grouped_by_cedant()\n",
    "# this_quarter_by_cedant_final_CR.style.format({\n",
    "#     'TPE/100': \"{:,.0f}\",\n",
    "#     'EPI (€m)': \"{:,.0f}\",\n",
    "#     'Ecap (€m)': \"{:,.0f}\",\n",
    "#     'EL (€m)': \"{:,.0f}\",\n",
    "#     'PD': \"{:.2%}\",\n",
    "#     'ECap / TPE': \"{:.2%}\",\n",
    "#     'EL / TPE': \"{:.2%}\",\n",
    "#     'ECap / EPI': \"{:.0%}\",\n",
    "#     'EL / EPI': \"{:.0%}\",\n",
    "# })"
   ]
  },
  {
   "cell_type": "code",
   "execution_count": 9,
   "metadata": {},
   "outputs": [],
   "source": [
    "qOq_CR = quarterOverQuarter(\n",
    "    product_type='credit',\n",
    "    this_quarter_reporting_date=new_reporting_date,\n",
    "    this_quarter_reporting=credit_this_quarter.raw_reporting,\n",
    "    last_quarter_reporting=credit_last_quarter.raw_reporting\n",
    ")"
   ]
  },
  {
   "cell_type": "code",
   "execution_count": 10,
   "metadata": {},
   "outputs": [
    {
     "output_type": "execute_result",
     "data": {
      "text/plain": "                       Cedant Name  EC_CONSUMPTION_ND 20Q1  \\\n0                    THAI EXIMBANK            1.238283e+06   \n1                      SOMPO JAPAN            4.514948e+04   \n2                 CREDIT GUARANTEE            2.086369e+06   \n3   COMPANIA DE SEGUROS CONTINENTA            1.607514e+05   \n4   CREDENDO-EXCESS & SURETY SA/NV            1.505381e+05   \n5         CREDENDO (FORMERLY ONDD)            9.710517e+05   \n6   PT. REASURANSI INDONESIA UTAMA            1.148046e+05   \n7   UCPB GENERAL INSURANCE COMPANY            3.761749e+04   \n8                       TMNF TOKYO            2.169020e+06   \n9                  MITSUI SUMITOMO            7.174045e+04   \n10            ERGO VERSICHERUNG AG            1.520757e+05   \n11             SOC MAROCAINE D'ASS            2.667127e+05   \n12             INDONESIA  EXIMBANK            7.804192e+04   \n13            RHB INSURANCE BERHAD            6.398647e+04   \n14            OMAN EXPORT CREDIT G            3.081424e+05   \n15             CREDENDO (EX KUPEG)            2.575714e+05   \n16            CREDENDO INGOSSTRAKH            8.254537e+04   \n17          SOGLASIE INSURANCE CO.            1.584079e+05   \n18            CREDENDO SINGLE RISK            1.251006e+05   \n19   KYOEI FIRE & MARINE INSURANCE            9.331497e+04   \n20                         IPP LTD            2.168452e+05   \n21           IGI INSURANCE LIMITED            1.036763e+05   \n22                        SACE SPA            8.277671e+04   \n23                            MBDP            2.723908e+04   \n24                    TPL Pakistan            2.001889e+02   \n25                         FIDELIS            5.130433e+03   \n26       REASURANSI NASIONAL - IDN            7.648479e+03   \n27                 FORTE INSURANCE            2.808404e+03   \n28                JAMAICA EXIMBANK            2.167797e+04   \n29                    INGO UKRAINE            1.200023e+04   \n30            UNITED COOP ASSURANC            1.392673e+04   \n31     ECICS CREDIT INSURANCE LTD.            2.193603e+04   \n32            LEBANON CREDIT INSUR            7.044475e+04   \n33       GREEN DELTA INSURANCE LTD            2.128563e+04   \n34        ARABIA INSURANCE COMPANY            3.776981e+04   \n35            HKO Credit Insurance            1.163137e+05   \n36             CIE TUNISIENNE POUR            3.482237e+05   \n37            CIE ALGERIENNE D'ASS            5.642171e+04   \n38                            NEXI            3.386740e+04   \n39               CONFIANZA ECUADOR            1.524919e+05   \n40       ARAB MISR INSURANCE GROUP            6.022056e+04   \n41                   HESTIA POLAND            1.954859e+06   \n42              SANTAM SI (EX CIS)            1.614873e+04   \n43   FUTURE GENERALI INDIA INS LTD            9.948238e+04   \n44                      TRIGLAV RE            6.183950e+05   \n45                   CGI MAURITIUS            2.194243e+05   \n46             EGYPT EXPORT CREDIT            1.277155e+05   \n47                      INSUR PERU            8.297909e+04   \n48   IFFCO TOKIO GENERAL INSURANCE            1.009744e+05   \n49                     KUKE POLAND            8.599606e+05   \n50                 INSUR ARGENTINA            2.554326e+05   \n51            PICC PROPERTY AND CA            6.041258e+06   \n52                   TURK EXIMBANK            3.313873e+06   \n53                 Coface PKZ d.d.            1.694392e+06   \n54                     CLAL CREDIT            5.108090e+06   \n55            ISLAMIC CORP. FOR IN            6.236045e+05   \n56                        SINOSURE            4.062788e+07   \n57                     SACE BT SPA            5.510678e+06   \n\n    EC_CONSUMPTION_ND 20Q2              Δ  \n0             1.795518e+06  557235.357185  \n1             2.318746e+05  186725.141222  \n2             2.236667e+06  150297.852834  \n3             3.050444e+05  144292.963642  \n4             2.655665e+05  115028.381623  \n5             1.085728e+06  114676.206795  \n6             2.148227e+05  100018.183733  \n7             1.149247e+05   77307.166265  \n8             2.241162e+06   72141.946380  \n9             1.419941e+05   70253.620471  \n10            2.135465e+05   61470.779343  \n11            3.106256e+05   43912.904968  \n12            1.201934e+05   42151.489235  \n13            8.532272e+04   21336.247704  \n14            3.231062e+05   14963.820047  \n15            2.712682e+05   13696.855353  \n16            9.462530e+04   12079.928165  \n17            1.696240e+05   11216.146044  \n18            1.344751e+05    9374.561693  \n19            1.000271e+05    6712.115048  \n20            2.230814e+05    6236.287909  \n21            1.097679e+05    6091.679728  \n22            8.809817e+04    5321.464055  \n23            2.981555e+04    2576.462441  \n24            9.477894e+01    -105.409915  \n25            4.663004e+03    -467.428755  \n26            7.043059e+03    -605.420141  \n27            2.000753e+03    -807.651663  \n28            2.033609e+04   -1341.882883  \n29            1.035640e+04   -1643.834819  \n30            1.154024e+04   -2386.498632  \n31            1.823339e+04   -3702.633752  \n32            6.615071e+04   -4294.043359  \n33            1.624276e+04   -5042.867763  \n34            3.125011e+04   -6519.700555  \n35            1.092556e+05   -7058.072080  \n36            3.394847e+05   -8739.003374  \n37            4.726215e+04   -9159.566652  \n38            2.409571e+04   -9771.697209  \n39            1.424328e+05  -10059.066041  \n40            4.965819e+04  -10562.366220  \n41            1.939314e+06  -15545.250230  \n42            0.000000e+00  -16148.729623  \n43            8.166690e+04  -17815.473998  \n44            5.961902e+05  -22204.747184  \n45            1.925775e+05  -26846.850494  \n46            9.423303e+04  -33482.469937  \n47            4.698118e+04  -35997.910517  \n48            4.815372e+04  -52820.665639  \n49            7.841621e+05  -75798.455835  \n50            1.333163e+05 -122116.370325  \n51            5.865854e+06 -175403.596767  \n52            3.108055e+06 -205817.914889  \n53            1.415347e+06 -279045.112297  \n54            4.824486e+06 -283603.455214  \n55            1.901840e+05 -433420.488883  \n56            4.015295e+07 -474928.194363  \n57            5.026162e+06 -484515.493794  ",
      "text/html": "<div>\n<style scoped>\n    .dataframe tbody tr th:only-of-type {\n        vertical-align: middle;\n    }\n\n    .dataframe tbody tr th {\n        vertical-align: top;\n    }\n\n    .dataframe thead th {\n        text-align: right;\n    }\n</style>\n<table border=\"1\" class=\"dataframe\">\n  <thead>\n    <tr style=\"text-align: right;\">\n      <th></th>\n      <th>Cedant Name</th>\n      <th>EC_CONSUMPTION_ND 20Q1</th>\n      <th>EC_CONSUMPTION_ND 20Q2</th>\n      <th>Δ</th>\n    </tr>\n  </thead>\n  <tbody>\n    <tr>\n      <th>0</th>\n      <td>THAI EXIMBANK</td>\n      <td>1.238283e+06</td>\n      <td>1.795518e+06</td>\n      <td>557235.357185</td>\n    </tr>\n    <tr>\n      <th>1</th>\n      <td>SOMPO JAPAN</td>\n      <td>4.514948e+04</td>\n      <td>2.318746e+05</td>\n      <td>186725.141222</td>\n    </tr>\n    <tr>\n      <th>2</th>\n      <td>CREDIT GUARANTEE</td>\n      <td>2.086369e+06</td>\n      <td>2.236667e+06</td>\n      <td>150297.852834</td>\n    </tr>\n    <tr>\n      <th>3</th>\n      <td>COMPANIA DE SEGUROS CONTINENTA</td>\n      <td>1.607514e+05</td>\n      <td>3.050444e+05</td>\n      <td>144292.963642</td>\n    </tr>\n    <tr>\n      <th>4</th>\n      <td>CREDENDO-EXCESS &amp; SURETY SA/NV</td>\n      <td>1.505381e+05</td>\n      <td>2.655665e+05</td>\n      <td>115028.381623</td>\n    </tr>\n    <tr>\n      <th>5</th>\n      <td>CREDENDO (FORMERLY ONDD)</td>\n      <td>9.710517e+05</td>\n      <td>1.085728e+06</td>\n      <td>114676.206795</td>\n    </tr>\n    <tr>\n      <th>6</th>\n      <td>PT. REASURANSI INDONESIA UTAMA</td>\n      <td>1.148046e+05</td>\n      <td>2.148227e+05</td>\n      <td>100018.183733</td>\n    </tr>\n    <tr>\n      <th>7</th>\n      <td>UCPB GENERAL INSURANCE COMPANY</td>\n      <td>3.761749e+04</td>\n      <td>1.149247e+05</td>\n      <td>77307.166265</td>\n    </tr>\n    <tr>\n      <th>8</th>\n      <td>TMNF TOKYO</td>\n      <td>2.169020e+06</td>\n      <td>2.241162e+06</td>\n      <td>72141.946380</td>\n    </tr>\n    <tr>\n      <th>9</th>\n      <td>MITSUI SUMITOMO</td>\n      <td>7.174045e+04</td>\n      <td>1.419941e+05</td>\n      <td>70253.620471</td>\n    </tr>\n    <tr>\n      <th>10</th>\n      <td>ERGO VERSICHERUNG AG</td>\n      <td>1.520757e+05</td>\n      <td>2.135465e+05</td>\n      <td>61470.779343</td>\n    </tr>\n    <tr>\n      <th>11</th>\n      <td>SOC MAROCAINE D'ASS</td>\n      <td>2.667127e+05</td>\n      <td>3.106256e+05</td>\n      <td>43912.904968</td>\n    </tr>\n    <tr>\n      <th>12</th>\n      <td>INDONESIA  EXIMBANK</td>\n      <td>7.804192e+04</td>\n      <td>1.201934e+05</td>\n      <td>42151.489235</td>\n    </tr>\n    <tr>\n      <th>13</th>\n      <td>RHB INSURANCE BERHAD</td>\n      <td>6.398647e+04</td>\n      <td>8.532272e+04</td>\n      <td>21336.247704</td>\n    </tr>\n    <tr>\n      <th>14</th>\n      <td>OMAN EXPORT CREDIT G</td>\n      <td>3.081424e+05</td>\n      <td>3.231062e+05</td>\n      <td>14963.820047</td>\n    </tr>\n    <tr>\n      <th>15</th>\n      <td>CREDENDO (EX KUPEG)</td>\n      <td>2.575714e+05</td>\n      <td>2.712682e+05</td>\n      <td>13696.855353</td>\n    </tr>\n    <tr>\n      <th>16</th>\n      <td>CREDENDO INGOSSTRAKH</td>\n      <td>8.254537e+04</td>\n      <td>9.462530e+04</td>\n      <td>12079.928165</td>\n    </tr>\n    <tr>\n      <th>17</th>\n      <td>SOGLASIE INSURANCE CO.</td>\n      <td>1.584079e+05</td>\n      <td>1.696240e+05</td>\n      <td>11216.146044</td>\n    </tr>\n    <tr>\n      <th>18</th>\n      <td>CREDENDO SINGLE RISK</td>\n      <td>1.251006e+05</td>\n      <td>1.344751e+05</td>\n      <td>9374.561693</td>\n    </tr>\n    <tr>\n      <th>19</th>\n      <td>KYOEI FIRE &amp; MARINE INSURANCE</td>\n      <td>9.331497e+04</td>\n      <td>1.000271e+05</td>\n      <td>6712.115048</td>\n    </tr>\n    <tr>\n      <th>20</th>\n      <td>IPP LTD</td>\n      <td>2.168452e+05</td>\n      <td>2.230814e+05</td>\n      <td>6236.287909</td>\n    </tr>\n    <tr>\n      <th>21</th>\n      <td>IGI INSURANCE LIMITED</td>\n      <td>1.036763e+05</td>\n      <td>1.097679e+05</td>\n      <td>6091.679728</td>\n    </tr>\n    <tr>\n      <th>22</th>\n      <td>SACE SPA</td>\n      <td>8.277671e+04</td>\n      <td>8.809817e+04</td>\n      <td>5321.464055</td>\n    </tr>\n    <tr>\n      <th>23</th>\n      <td>MBDP</td>\n      <td>2.723908e+04</td>\n      <td>2.981555e+04</td>\n      <td>2576.462441</td>\n    </tr>\n    <tr>\n      <th>24</th>\n      <td>TPL Pakistan</td>\n      <td>2.001889e+02</td>\n      <td>9.477894e+01</td>\n      <td>-105.409915</td>\n    </tr>\n    <tr>\n      <th>25</th>\n      <td>FIDELIS</td>\n      <td>5.130433e+03</td>\n      <td>4.663004e+03</td>\n      <td>-467.428755</td>\n    </tr>\n    <tr>\n      <th>26</th>\n      <td>REASURANSI NASIONAL - IDN</td>\n      <td>7.648479e+03</td>\n      <td>7.043059e+03</td>\n      <td>-605.420141</td>\n    </tr>\n    <tr>\n      <th>27</th>\n      <td>FORTE INSURANCE</td>\n      <td>2.808404e+03</td>\n      <td>2.000753e+03</td>\n      <td>-807.651663</td>\n    </tr>\n    <tr>\n      <th>28</th>\n      <td>JAMAICA EXIMBANK</td>\n      <td>2.167797e+04</td>\n      <td>2.033609e+04</td>\n      <td>-1341.882883</td>\n    </tr>\n    <tr>\n      <th>29</th>\n      <td>INGO UKRAINE</td>\n      <td>1.200023e+04</td>\n      <td>1.035640e+04</td>\n      <td>-1643.834819</td>\n    </tr>\n    <tr>\n      <th>30</th>\n      <td>UNITED COOP ASSURANC</td>\n      <td>1.392673e+04</td>\n      <td>1.154024e+04</td>\n      <td>-2386.498632</td>\n    </tr>\n    <tr>\n      <th>31</th>\n      <td>ECICS CREDIT INSURANCE LTD.</td>\n      <td>2.193603e+04</td>\n      <td>1.823339e+04</td>\n      <td>-3702.633752</td>\n    </tr>\n    <tr>\n      <th>32</th>\n      <td>LEBANON CREDIT INSUR</td>\n      <td>7.044475e+04</td>\n      <td>6.615071e+04</td>\n      <td>-4294.043359</td>\n    </tr>\n    <tr>\n      <th>33</th>\n      <td>GREEN DELTA INSURANCE LTD</td>\n      <td>2.128563e+04</td>\n      <td>1.624276e+04</td>\n      <td>-5042.867763</td>\n    </tr>\n    <tr>\n      <th>34</th>\n      <td>ARABIA INSURANCE COMPANY</td>\n      <td>3.776981e+04</td>\n      <td>3.125011e+04</td>\n      <td>-6519.700555</td>\n    </tr>\n    <tr>\n      <th>35</th>\n      <td>HKO Credit Insurance</td>\n      <td>1.163137e+05</td>\n      <td>1.092556e+05</td>\n      <td>-7058.072080</td>\n    </tr>\n    <tr>\n      <th>36</th>\n      <td>CIE TUNISIENNE POUR</td>\n      <td>3.482237e+05</td>\n      <td>3.394847e+05</td>\n      <td>-8739.003374</td>\n    </tr>\n    <tr>\n      <th>37</th>\n      <td>CIE ALGERIENNE D'ASS</td>\n      <td>5.642171e+04</td>\n      <td>4.726215e+04</td>\n      <td>-9159.566652</td>\n    </tr>\n    <tr>\n      <th>38</th>\n      <td>NEXI</td>\n      <td>3.386740e+04</td>\n      <td>2.409571e+04</td>\n      <td>-9771.697209</td>\n    </tr>\n    <tr>\n      <th>39</th>\n      <td>CONFIANZA ECUADOR</td>\n      <td>1.524919e+05</td>\n      <td>1.424328e+05</td>\n      <td>-10059.066041</td>\n    </tr>\n    <tr>\n      <th>40</th>\n      <td>ARAB MISR INSURANCE GROUP</td>\n      <td>6.022056e+04</td>\n      <td>4.965819e+04</td>\n      <td>-10562.366220</td>\n    </tr>\n    <tr>\n      <th>41</th>\n      <td>HESTIA POLAND</td>\n      <td>1.954859e+06</td>\n      <td>1.939314e+06</td>\n      <td>-15545.250230</td>\n    </tr>\n    <tr>\n      <th>42</th>\n      <td>SANTAM SI (EX CIS)</td>\n      <td>1.614873e+04</td>\n      <td>0.000000e+00</td>\n      <td>-16148.729623</td>\n    </tr>\n    <tr>\n      <th>43</th>\n      <td>FUTURE GENERALI INDIA INS LTD</td>\n      <td>9.948238e+04</td>\n      <td>8.166690e+04</td>\n      <td>-17815.473998</td>\n    </tr>\n    <tr>\n      <th>44</th>\n      <td>TRIGLAV RE</td>\n      <td>6.183950e+05</td>\n      <td>5.961902e+05</td>\n      <td>-22204.747184</td>\n    </tr>\n    <tr>\n      <th>45</th>\n      <td>CGI MAURITIUS</td>\n      <td>2.194243e+05</td>\n      <td>1.925775e+05</td>\n      <td>-26846.850494</td>\n    </tr>\n    <tr>\n      <th>46</th>\n      <td>EGYPT EXPORT CREDIT</td>\n      <td>1.277155e+05</td>\n      <td>9.423303e+04</td>\n      <td>-33482.469937</td>\n    </tr>\n    <tr>\n      <th>47</th>\n      <td>INSUR PERU</td>\n      <td>8.297909e+04</td>\n      <td>4.698118e+04</td>\n      <td>-35997.910517</td>\n    </tr>\n    <tr>\n      <th>48</th>\n      <td>IFFCO TOKIO GENERAL INSURANCE</td>\n      <td>1.009744e+05</td>\n      <td>4.815372e+04</td>\n      <td>-52820.665639</td>\n    </tr>\n    <tr>\n      <th>49</th>\n      <td>KUKE POLAND</td>\n      <td>8.599606e+05</td>\n      <td>7.841621e+05</td>\n      <td>-75798.455835</td>\n    </tr>\n    <tr>\n      <th>50</th>\n      <td>INSUR ARGENTINA</td>\n      <td>2.554326e+05</td>\n      <td>1.333163e+05</td>\n      <td>-122116.370325</td>\n    </tr>\n    <tr>\n      <th>51</th>\n      <td>PICC PROPERTY AND CA</td>\n      <td>6.041258e+06</td>\n      <td>5.865854e+06</td>\n      <td>-175403.596767</td>\n    </tr>\n    <tr>\n      <th>52</th>\n      <td>TURK EXIMBANK</td>\n      <td>3.313873e+06</td>\n      <td>3.108055e+06</td>\n      <td>-205817.914889</td>\n    </tr>\n    <tr>\n      <th>53</th>\n      <td>Coface PKZ d.d.</td>\n      <td>1.694392e+06</td>\n      <td>1.415347e+06</td>\n      <td>-279045.112297</td>\n    </tr>\n    <tr>\n      <th>54</th>\n      <td>CLAL CREDIT</td>\n      <td>5.108090e+06</td>\n      <td>4.824486e+06</td>\n      <td>-283603.455214</td>\n    </tr>\n    <tr>\n      <th>55</th>\n      <td>ISLAMIC CORP. FOR IN</td>\n      <td>6.236045e+05</td>\n      <td>1.901840e+05</td>\n      <td>-433420.488883</td>\n    </tr>\n    <tr>\n      <th>56</th>\n      <td>SINOSURE</td>\n      <td>4.062788e+07</td>\n      <td>4.015295e+07</td>\n      <td>-474928.194363</td>\n    </tr>\n    <tr>\n      <th>57</th>\n      <td>SACE BT SPA</td>\n      <td>5.510678e+06</td>\n      <td>5.026162e+06</td>\n      <td>-484515.493794</td>\n    </tr>\n  </tbody>\n</table>\n</div>"
     },
     "metadata": {},
     "execution_count": 10
    }
   ],
   "source": [
    "df = qOq_CR.ecap_movement()\n",
    "df"
   ]
  }
 ],
 "metadata": {
  "kernelspec": {
   "display_name": "Python 3",
   "language": "python",
   "name": "python3"
  },
  "language_info": {
   "codemirror_mode": {
    "name": "ipython",
    "version": 3
   },
   "file_extension": ".py",
   "mimetype": "text/x-python",
   "name": "python",
   "nbconvert_exporter": "python",
   "pygments_lexer": "ipython3",
   "version": "3.7.6-final"
  }
 },
 "nbformat": 4,
 "nbformat_minor": 4
}