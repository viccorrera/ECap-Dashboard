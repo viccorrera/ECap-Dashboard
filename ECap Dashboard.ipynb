{
 "cells": [
  {
   "cell_type": "code",
   "execution_count": 1,
   "metadata": {},
   "outputs": [],
   "source": [
    "import pandas as pd\n",
    "import numpy as np\n",
    "from ecap_dashboard import SOReporting, quarterOverQuarter"
   ]
  },
  {
   "cell_type": "code",
   "execution_count": 2,
   "metadata": {},
   "outputs": [],
   "source": [
    "new_reporting_date = pd.to_datetime('30/06/2020', dayfirst=True)\n",
    "bond_this_quarter = SOReporting(\n",
    "    product_type='bond',\n",
    "    period='New',\n",
    "    reporting_date=new_reporting_date)\n",
    "\n",
    "\n",
    "old_reporting_date = pd.to_datetime('31/03/2020', dayfirst=True)\n",
    "bond_last_quarter = SOReporting(\n",
    "    product_type='bond',\n",
    "    period='Old',\n",
    "    reporting_date=old_reporting_date)"
   ]
  },
  {
   "cell_type": "code",
   "execution_count": null,
   "metadata": {},
   "outputs": [],
   "source": [
    "# this_quarter_by_cedant_final = bond_this_quarter.get_final_grouped_by_cedant()\n",
    "# this_quarter_by_cedant_final.style.format({\n",
    "#     'TPE/100': \"{:,.0f}\",\n",
    "#     'EPI (€m)': \"{:,.0f}\",\n",
    "#     'Ecap (€m)': \"{:,.0f}\",\n",
    "#     'EL (€m)': \"{:,.0f}\",\n",
    "#     'PD': \"{:.2%}\",\n",
    "#     'ECap / TPE': \"{:.2%}\",\n",
    "#     'EL / TPE': \"{:.2%}\",\n",
    "#     'ECap / EPI': \"{:.0%}\",\n",
    "#     'EL / EPI': \"{:.0%}\",\n",
    "# })"
   ]
  },
  {
   "cell_type": "code",
   "execution_count": null,
   "metadata": {},
   "outputs": [],
   "source": [
    "qOq = quarterOverQuarter(\n",
    "    product_type='bond',\n",
    "    this_quarter_reporting_date=new_reporting_date,\n",
    "    this_quarter_reporting=bond_this_quarter.raw_reporting,\n",
    "    last_quarter_reporting=bond_last_quarter.raw_reporting\n",
    ")"
   ]
  },
  {
   "cell_type": "code",
   "execution_count": null,
   "metadata": {
    "tags": []
   },
   "outputs": [],
   "source": [
    "balloon = '36047B1 01'\n",
    "qOq.get_deep_dive_exposures(balloon).to_csv('{} exposures.txt'.format(balloon), sep='\\t', index=False)\n",
    "\n",
    "qOq.get_deep_dive_summary(\n",
    "    balloon_id=balloon,\n",
    "    this_quarter_grouped_by_contract=bond_this_quarter.get_grouped_by_contract(),\n",
    "    last_quarter_grouped_by_contract=bond_last_quarter.get_grouped_by_contract()\n",
    ").to_csv('{} summary.txt'.format(balloon), sep='\\t')"
   ]
  },
  {
   "cell_type": "markdown",
   "metadata": {},
   "source": [
    "# Credit Section\n",
    "\n",
    "## Treaties and Cedants\n",
    "\n",
    "1. Create the SOReporting object for **this** and **last** quarter\n",
    "1. Create .get_grouped_by_contract() DataFrame (Credit_Cedant_Raw in Excel)\n",
    "1. Create .get_final_grouped_by_cedant() DataFrame (Credit in Excel)\n",
    "\n",
    "## Quarter Over Quarter and Deep Dive\n",
    "\n",
    "1. Create quarterOverQuarter object\n",
    "1. Create .ecap_movement() DataFrame (Credit movements in Excel)"
   ]
  },
  {
   "cell_type": "code",
   "execution_count": 7,
   "metadata": {},
   "outputs": [],
   "source": [
    "new_reporting_date = pd.to_datetime('30/06/2020', dayfirst=True)\n",
    "credit_this_quarter = SOReporting(\n",
    "    product_type='credit',\n",
    "    period='New',\n",
    "    reporting_date=new_reporting_date)\n",
    "\n",
    "\n",
    "old_reporting_date = pd.to_datetime('31/03/2020', dayfirst=True)\n",
    "credit_last_quarter = SOReporting(\n",
    "    product_type='credit',\n",
    "    period='Old',\n",
    "    reporting_date=old_reporting_date)"
   ]
  },
  {
   "cell_type": "code",
   "execution_count": null,
   "metadata": {},
   "outputs": [],
   "source": [
    "credit_this_quarter.get_grouped_by_contract().to_csv('credit by contract.txt', sep='\\t', index=False)\n",
    "credit_this_quarter.get_final_grouped_by_cedant().to_csv('credit by cedant.txt', sep='\\t', index=False)"
   ]
  },
  {
   "cell_type": "code",
   "execution_count": null,
   "metadata": {},
   "outputs": [],
   "source": [
    "# this_quarter_by_cedant_final_CR = credit_this_quarter.get_final_grouped_by_cedant()\n",
    "# this_quarter_by_cedant_final_CR.style.format({\n",
    "#     'TPE/100': \"{:,.0f}\",\n",
    "#     'EPI (€m)': \"{:,.0f}\",\n",
    "#     'Ecap (€m)': \"{:,.0f}\",\n",
    "#     'EL (€m)': \"{:,.0f}\",\n",
    "#     'PD': \"{:.2%}\",\n",
    "#     'ECap / TPE': \"{:.2%}\",\n",
    "#     'EL / TPE': \"{:.2%}\",\n",
    "#     'ECap / EPI': \"{:.0%}\",\n",
    "#     'EL / EPI': \"{:.0%}\",\n",
    "# })"
   ]
  },
  {
   "cell_type": "code",
   "execution_count": null,
   "metadata": {},
   "outputs": [],
   "source": [
    "qOq_CR = quarterOverQuarter(\n",
    "    product_type='credit',\n",
    "    this_quarter_reporting_date=new_reporting_date,\n",
    "    this_quarter_reporting=credit_this_quarter.raw_reporting,\n",
    "    last_quarter_reporting=credit_last_quarter.raw_reporting\n",
    ")"
   ]
  },
  {
   "cell_type": "code",
   "execution_count": null,
   "metadata": {},
   "outputs": [],
   "source": [
    "# df = qOq_CR.ecap_movement()\n",
    "# df.to_csv('Credit movements.txt', sep='\\t', index=False)\n",
    "# df.style.format({'EC_CONSUMPTION_ND 20Q1': \"{:,.0f}\", 'EC_CONSUMPTION_ND 20Q2': \"{:,.0f}\", 'Δ': \"{:,.0f}\"})"
   ]
  },
  {
   "cell_type": "code",
   "execution_count": null,
   "metadata": {},
   "outputs": [],
   "source": []
  },
  {
   "cell_type": "code",
   "execution_count": null,
   "metadata": {},
   "outputs": [],
   "source": [
    "# balloon = '08296C1 01'\n",
    "# qOq_CR.get_deep_dive_exposures(balloon).to_csv('{} exposures.txt'.format(balloon), sep='\\t', index=False)\n",
    "\n",
    "# qOq_CR.get_deep_dive_summary(\n",
    "#     balloon_id=balloon,\n",
    "#     this_quarter_grouped_by_contract=bond_this_quarter.get_grouped_by_contract(),\n",
    "#     last_quarter_grouped_by_contract=bond_last_quarter.get_grouped_by_contract()\n",
    "# ).to_csv('{} summary.txt'.format(balloon), sep='\\t')"
   ]
  },
  {
   "cell_type": "code",
   "execution_count": null,
   "metadata": {
    "tags": []
   },
   "outputs": [],
   "source": [
    "balloon = '03159C1 03'\n",
    "qOq_CR.get_deep_dive_exposures(balloon).to_csv('{} exposures.txt'.format(balloon), sep='\\t', index=False)\n",
    "\n",
    "qOq_CR.get_deep_dive_summary(\n",
    "    balloon_id=balloon,\n",
    "    this_quarter_grouped_by_contract=credit_this_quarter.get_grouped_by_contract(),\n",
    "    last_quarter_grouped_by_contract=credit_last_quarter.get_grouped_by_contract()\n",
    ").to_csv('{} summary.txt'.format(balloon), sep='\\t')"
   ]
  },
  {
   "cell_type": "code",
   "execution_count": null,
   "metadata": {},
   "outputs": [],
   "source": [
    "# df = credit_this_quarter.raw_reporting\n",
    "# df = df.loc[(df['CUSTOMER_ID'] == '08296C1 01') & (~df['MODEL_SUB_TYPE'].str.contains('CI_POL_UNK'))]\n",
    "# df.loc[df['MODEL_SUB_TYPE'].str.contains('CI_POL_KN'), 'CREDIT_LIMIT_NET_EXPOSURE'] = 0\n",
    "# df.loc[df['MODEL_SUB_TYPE'].str.contains('CI_POL_KN'), 'ULTIMATE_POD'] = 0\n",
    "# df = df.groupby(by='ALIAS_ID').sum().reset_index()\n",
    "# df"
   ]
  },
  {
   "cell_type": "code",
   "execution_count": null,
   "metadata": {},
   "outputs": [],
   "source": [
    "# df_info = credit_this_quarter.raw_reporting\n",
    "# df_info = df_info.loc[(df_info['CUSTOMER_ID'] == '08296C1 01') & (~df_info['MODEL_SUB_TYPE'].isin(['CI_POL_UNK', 'CI_POL_KN']))]\n",
    "# df_info = df_info[[\n",
    "#     'ALIAS_ID',\n",
    "#     'ULTIMATE_NAME',\n",
    "#     'ULTIMATE_RATING_TYPE',\n",
    "#     'ULTIMATE_RATING'\n",
    "# ]]\n",
    "\n",
    "# df.merge(df_info, on='ALIAS_ID')"
   ]
  }
 ],
 "metadata": {
  "kernelspec": {
   "display_name": "Python 3",
   "language": "python",
   "name": "python3"
  },
  "language_info": {
   "codemirror_mode": {
    "name": "ipython",
    "version": 3
   },
   "file_extension": ".py",
   "mimetype": "text/x-python",
   "name": "python",
   "nbconvert_exporter": "python",
   "pygments_lexer": "ipython3",
   "version": "3.7.6-final"
  }
 },
 "nbformat": 4,
 "nbformat_minor": 4
}